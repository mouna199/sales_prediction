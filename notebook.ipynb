{
  "nbformat_minor": 0,
  "cells": [
    {
      "cell_type": "markdown",
      "outputs": [],
      "execution_count": null,
      "metadata": {
        "_cell_guid": "b470503e-06e6-42a2-b896-147658d51f55",
        "_execution_state": "idle",
        "collapsed": false,
        "_uuid": "ed15e5ae36161b5e034961df6f89be23a1c3a978"
      },
      "source": "I am thinking of settling down in Ames, Iowa. But I m not sure how much it will cost me to find a house there. \nLucky for me, there is old data to help me predict the price of the house of my dreams.\n\nThe data I am going to use contains sale information of houses in Ames from 2006 till 2010, it contains 1460 observations and a good number of explanatory variables, 81 variable to be precise.\n\nBefore applying any machine learning techniques, which is the fun part of the project, there is a long tidying process, this data is raw and someone has to do the cleaning first.\n\nSo here is the plan. \n\n 1. **Target Variable**: A little visualization won't hurt, it is the same variable I want to predict, this is our VIP \n\n 2. **The other variables**: a quick look to the non VIP features.\n\n 3. **Cleaning step**: We will then delete some values and outliers with the help of the previous step.\n\n 4. **Interaction of features** : The price changes from house to another, I m going to need some bivariate and multivariate study to detect these changes. \n\n\n"
    },
    {
      "cell_type": "code",
      "outputs": [],
      "execution_count": null,
      "metadata": {
        "_cell_guid": "01d7a298-831c-4db8-8ffe-ec60f1a17f49",
        "_execution_state": "idle",
        "_uuid": "30123738b1425992671d1746ab08f31baf9cfd88",
        "trusted": false
      },
      "source": "# This Python 3 environment comes with many helpful analytics libraries installed\n# It is defined by the kaggle/python docker image: https://github.com/kaggle/docker-python\n# For example, here's several helpful packages to load in \n\nimport numpy as np # linear algebra\nimport pandas as pd # data processing, CSV file I/O (e.g. pd.read_csv)\nfrom scipy import stats\nimport seaborn as sns\n# Input data files are available in the \"../input/\" directory.\n# For example, running this (by clicking run or pressing Shift+Enter) will list the files in the input directory\n\nfrom subprocess import check_output\nprint(check_output([\"ls\", \"../input\"]).decode(\"utf8\"))\n\n# Any results you write to the current directory are saved as output.\n\ndata=pd.read_csv('../input/train.csv')\ndata.head()\nprint(\"the number of columns and observation of the data is {}\".format(data.shape)) \n"
    },
    {
      "cell_type": "markdown",
      "outputs": [],
      "execution_count": null,
      "metadata": {
        "_cell_guid": "2b97c5c8-9052-4aee-a63c-731d59405ba7",
        "_execution_state": "idle",
        "collapsed": false,
        "_uuid": "60c99312f3c8e6d9a1a8b943e3ca6299bba960b7"
      },
      "source": "**Target variable**\n\nMy target variable is SalePrice, it is a numerical variable whose statistics are: \n "
    },
    {
      "cell_type": "code",
      "outputs": [],
      "execution_count": null,
      "metadata": {
        "_cell_guid": "3743c2e3-73fa-4177-b9be-4b32bd25bc55",
        "_execution_state": "idle",
        "collapsed": false,
        "_uuid": "ee1164608e0e366ab842e6368c11133c5f4d2dd5",
        "trusted": false
      },
      "source": "data['SalePrice'].describe()"
    },
    {
      "cell_type": "markdown",
      "outputs": [],
      "execution_count": null,
      "metadata": {
        "_cell_guid": "eef77597-ce32-4d20-be9d-53ec51c03516",
        "_execution_state": "idle",
        "collapsed": false,
        "_uuid": "2c77e8bb945460fd963a775ba73b6fd96abc01e4"
      },
      "source": "We can already feel that there will be few outliers since 75% of the observations are under 214000, while the maximum one has a Sale price of 755000. \nBut lets not assume anything and plot a histogram first."
    },
    {
      "cell_type": "code",
      "outputs": [],
      "execution_count": null,
      "metadata": {
        "_cell_guid": "5c0193c8-5625-4f46-8ec5-682e0e49a20b",
        "_execution_state": "idle",
        "collapsed": false,
        "_uuid": "c21209fe07d344fa1997662d027fe8fc6f2d7a71",
        "trusted": false
      },
      "source": "sns.distplot(data['SalePrice'])"
    },
    {
      "cell_type": "markdown",
      "outputs": [],
      "execution_count": null,
      "metadata": {
        "_cell_guid": "168db416-635f-46e8-87e7-636af22cbdba",
        "_execution_state": "idle",
        "collapsed": false,
        "_uuid": "e39c0e7ba17db4e6e95b25ca5d4c01e1311b6b7c"
      },
      "source": "Let's not what we notice: \n\n 1. **The histogram is right skewed** \n\n 2. **There is one peak**\n\nThis feature is not normal, but this won't affect our prediction, as we will use regression that doesn't get influenced by normality. Thus, there is not need to do a transformation"
    },
    {
      "cell_type": "markdown",
      "outputs": [],
      "execution_count": null,
      "metadata": {
        "_cell_guid": "693f5667-38b1-41e7-bc4e-41971a5780b2",
        "_execution_state": "idle",
        "collapsed": false,
        "_uuid": "5768a99561496d3fdcfb54ec555655c77e5fa736"
      },
      "source": "Lets see first which features are the most correlated with 'SalePrice'"
    },
    {
      "cell_type": "code",
      "outputs": [],
      "execution_count": null,
      "metadata": {
        "_cell_guid": "a9f376d4-f51d-4614-a8dd-dbb6062f8d03",
        "_execution_state": "idle",
        "collapsed": false,
        "_uuid": "a00d2ac7bf33560e7015ea5da98a9f591b57cdd0",
        "trusted": false
      },
      "source": "data.describe()"
    },
    {
      "cell_type": "markdown",
      "outputs": [],
      "execution_count": null,
      "metadata": {
        "_cell_guid": "3ab47f98-e731-41f0-a0a1-9972cedd5b08",
        "_execution_state": "idle",
        "collapsed": false,
        "_uuid": "7da39948a5aaa0e3dac1d6b165e28ba73dab227d"
      },
      "source": "Some features have too many missing values "
    },
    {
      "cell_type": "code",
      "outputs": [],
      "execution_count": null,
      "metadata": {
        "_cell_guid": "8d42c3eb-cd82-47e6-acdf-47c087486991",
        "_execution_state": "idle",
        "collapsed": false,
        "_uuid": "169f38c557f9772c3622b3acb5d64383e1d71d44",
        "trusted": false
      },
      "source": "#Features with missing values, if a feature has 15% or more missing values, we delete it.\npercent = (data.isnull().sum()/data.isnull().count()).sort_values(ascending=False)\ntotal =(data.isnull().sum()).sort_values(ascending=False)\nmissing_data=pd.concat([percent,total],axis=1,keys=['Percent','Total'])\nmissing_data.head(20)\n#these features need to be dropped\nnew_data=data.drop(['PoolQC','MiscFeature','Alley',\"Fence\",'FireplaceQu','LotFrontage'],1)"
    },
    {
      "cell_type": "code",
      "outputs": [],
      "execution_count": null,
      "metadata": {
        "_cell_guid": "87959612-e67d-4454-9a7b-2cd98145ae01",
        "_execution_state": "idle",
        "collapsed": false,
        "_uuid": "e5cd3c067b993226fc27188e83986b77426a279f",
        "trusted": false
      },
      "source": "new_data=data.drop((missing_data[missing_data['Total']>1]).index,1)\nnew_data=new_data.drop(new_data.loc[new_data['Electrical'].isnull()].index)\nprint('the number of missing features is {}'.format(new_data.isnull().sum().max()))\n"
    },
    {
      "cell_type": "markdown",
      "outputs": [],
      "execution_count": null,
      "metadata": {
        "_cell_guid": "9b25b78e-33e2-4fcc-8c5e-57c7bbee249a",
        "_execution_state": "idle",
        "collapsed": false,
        "_uuid": "83d2a51e782cd8bd51c1592bbff920d77535c46c"
      },
      "source": "Dealing with missing values isn't the only thing we need to do for our features, we still have to deal with outliers too, which we will after a quick bivariate analysis."
    },
    {
      "cell_type": "markdown",
      "outputs": [],
      "execution_count": null,
      "metadata": {
        "_cell_guid": "75a567a5-3c4f-4c45-9f15-61bd1c33cd60",
        "_execution_state": "idle",
        "collapsed": false,
        "_uuid": "2cf8a2e083981132ce4e6cfd92620c96a76889d7"
      },
      "source": "Since there are a lot of features, I only pick the strongest correlated ones with dependent variable. But wait, it doesn't mean that I am ignoring the others, I m still going to use them when I start the prediction."
    },
    {
      "cell_type": "code",
      "outputs": [],
      "execution_count": null,
      "metadata": {
        "_cell_guid": "f0543871-31c0-4c1a-b2b9-bf43f9c04974",
        "_execution_state": "idle",
        "collapsed": false,
        "_uuid": "4954e9bc234995dbcfab6bdc6c0c781df4453236",
        "trusted": false
      },
      "source": "import matplotlib.pyplot as plt\ncorrmat = data.corr()\nf, ax = plt.subplots(figsize=(12, 9))\nsns.heatmap(corrmat, vmax=.8, square=True);"
    },
    {
      "cell_type": "markdown",
      "outputs": [],
      "execution_count": null,
      "metadata": {
        "_cell_guid": "7490977a-290d-406b-ac13-431c767d08a8",
        "_execution_state": "idle",
        "collapsed": false,
        "_uuid": "0b57581999edea2e1b6a2bbea8ee0b048dd7a9ee"
      },
      "source": "I picked the most correlated ones with **SalesPrice** : **GrLivArea** , **OverallQual**, **TotalBmstSF**, **1stFlrSF** , **GarageArea** and **GarageCars.**\n"
    },
    {
      "cell_type": "code",
      "outputs": [],
      "execution_count": null,
      "metadata": {
        "_cell_guid": "815d179e-256d-4bbf-805c-81ea6bfc5603",
        "_execution_state": "idle",
        "collapsed": false,
        "_uuid": "4445fa6d2615735a622daa60fab72e2e91b6fecd",
        "trusted": false
      },
      "source": "highly_correlated = ['GrLivArea' ,'TotalBsmtSF' , '1stFlrSF' ,'GarageArea']\nfor feature in highly_correlated:\n    new_data.plot.scatter(x=feature,y=\"SalePrice\")\nhighly_correlated_cat=['OverallQual',\"GarageCars\"]\nfor feature in highly_correlated_cat:\n    sns.factorplot(x=feature, y='SalePrice',\n                   data=new_data, kind=\"box\",\n                   size=6\n                  );\n    "
    },
    {
      "cell_type": "markdown",
      "outputs": [],
      "execution_count": null,
      "metadata": {
        "_cell_guid": "32850b1c-727c-4730-b9b8-9b730b5176cc",
        "_execution_state": "idle",
        "collapsed": false,
        "_uuid": "6cd9f9158c77c0d22851b70b6f4b353a8d5ef6f4"
      },
      "source": "Thanks to these plots, I spotted four outliers, two have high Sale price, while two has a big value of GRLivArea. I m getting rid of them. \n"
    },
    {
      "cell_type": "code",
      "outputs": [],
      "execution_count": null,
      "metadata": {
        "_cell_guid": "4cf59933-97b5-4891-ad39-02bc085426e2",
        "_execution_state": "idle",
        "collapsed": false,
        "_uuid": "8d78f07de9d7f0951934b74a38cefc066b786a1d",
        "trusted": false
      },
      "source": "new_data['SalePrice'].sort_values(ascending=False)[:2]\nnew_data=new_data.drop(new_data[new_data['SalePrice']==755000].index)\nnew_data=new_data.drop(new_data[new_data['SalePrice']==745000].index)\n\nnew_data['GrLivArea'].sort_values(ascending=False)[:2]\nnew_data=new_data.drop(new_data[new_data['GrLivArea']==5642].index)\nnew_data=new_data.drop(new_data[new_data['GrLivArea']==4676].index)"
    },
    {
      "cell_type": "code",
      "outputs": [],
      "execution_count": null,
      "metadata": {
        "_cell_guid": "2c4511b5-9e86-4ce7-9525-2607d889dedf",
        "_execution_state": "idle",
        "collapsed": false,
        "_uuid": "158bc0b4787017cd07ed271b8bc36ed719931bdb",
        "trusted": false
      },
      "source": "new_data.plot.scatter(x='GrLivArea',y=\"SalePrice\")"
    },
    {
      "cell_type": "markdown",
      "outputs": [],
      "execution_count": null,
      "metadata": {
        "_cell_guid": "87383cd8-04b6-40fb-b7bf-161b8d81f0cb",
        "_execution_state": "idle",
        "collapsed": false,
        "_uuid": "7d5f4878799fe939ceccda7f2bf0f5c7567cc4c4"
      },
      "source": "Alright, much better! \n\nSo I have an idea of the dependent variable and the most important features. I deleted some features with too many missing values and got rid of four observations with four outliers.\n\n"
    },
    {
      "cell_type": "markdown",
      "outputs": [],
      "execution_count": null,
      "metadata": {
        "_cell_guid": "53515f8f-9412-4efa-82ba-e56c4d658519",
        "_execution_state": "idle",
        "collapsed": false,
        "_uuid": "0c222bbcb04e7580a00ff554ab92f1a5212cd0a9"
      },
      "source": "Almost forgot dummies, a quick solution to turn categorical data into dummies "
    },
    {
      "cell_type": "code",
      "outputs": [],
      "execution_count": null,
      "metadata": {
        "_cell_guid": "f0e1d7ef-185e-4f7b-a268-96d23bcbd86c",
        "_execution_state": "idle",
        "collapsed": false,
        "_uuid": "351e51091736a53f6a78afeb716515342014144e",
        "trusted": false
      },
      "source": "new_data=pd.get_dummies(new_data)"
    },
    {
      "cell_type": "markdown",
      "outputs": [],
      "execution_count": null,
      "metadata": {
        "_cell_guid": "f47dda8a-1a45-4cf4-89a3-98a1a7dd9aac",
        "_execution_state": "idle",
        "collapsed": false,
        "_uuid": "444a29aa1d716e6d51afcea6f985662fbebd683f"
      },
      "source": "**Prediction time:** \nwell the preparing process surprisingly didn't take much time, but we can always go back to the preparation process if we fail to get a good prediction.\n"
    },
    {
      "cell_type": "code",
      "outputs": [],
      "execution_count": null,
      "metadata": {
        "_cell_guid": "b1e00883-922c-47b2-a67d-138b9328c9a6",
        "_execution_state": "idle",
        "collapsed": false,
        "_uuid": "fd3ee505338f989c212dbbc66f017a4acfa347b4",
        "trusted": false
      },
      "source": "columns =new_data.columns.tolist()\n# Filter the columns to remove ones we don't want.\ncolumns = [c for c in columns if c not in [\"Id\",'SalePrice']]\ntarget='SalePrice'\ncolumns\n"
    },
    {
      "cell_type": "code",
      "outputs": [],
      "execution_count": null,
      "metadata": {
        "_cell_guid": "d4135b92-9b60-40fe-9cce-6ee7debc5f80",
        "_execution_state": "idle",
        "collapsed": false,
        "_uuid": "d67cb23dd995eb0d15fb1a067e8f04d8fe31c488",
        "trusted": false
      },
      "source": "from sklearn.cross_validation import train_test_split\ntrain ,test = train_test_split(new_data,test_size=0.25) \n\nprint(train.head())\nprint(test.head())"
    },
    {
      "cell_type": "code",
      "outputs": [],
      "execution_count": null,
      "metadata": {
        "_cell_guid": "f8123828-c27a-4252-9b45-6b136d12ab76",
        "_execution_state": "idle",
        "collapsed": false,
        "_uuid": "81b101ade52810ac2dc8fe5afae84c8f8bdd82e1",
        "trusted": false
      },
      "source": "# Import the linearregression model.\nfrom sklearn.linear_model import LinearRegression\n\n# Initialize the model class.\nmodel = LinearRegression()\n# Fit the model to the training data.\nmodel.fit(train[columns], train[target])"
    },
    {
      "cell_type": "code",
      "outputs": [],
      "execution_count": null,
      "metadata": {
        "_cell_guid": "2d9a0026-3520-4e38-a6ec-f1b6f5fde3a2",
        "_execution_state": "idle",
        "collapsed": false,
        "_uuid": "c6404ad0e93e13eaf9cdbd207277ff53c2f42b92",
        "trusted": false
      },
      "source": "# Import the scikit-learn function to compute error.\nfrom sklearn.metrics import mean_squared_error\n\n# Generate our predictions for the test set.\npredictions = model.predict(test[columns])\n\n# Compute error between our test predictions and the actual values.\nmean_squared_error(predictions, test[target])"
    },
    {
      "cell_type": "code",
      "outputs": [],
      "execution_count": null,
      "metadata": {
        "_cell_guid": "de6b7f6e-451f-45b3-be19-53b3f6bc1462",
        "_execution_state": "idle",
        "collapsed": false,
        "_uuid": "e6719b0b7667bbcbc679387b0b53e8c177097368",
        "trusted": false
      },
      "source": ""
    },
    {
      "cell_type": "code",
      "outputs": [],
      "execution_count": null,
      "metadata": {
        "_cell_guid": "5e5eb72f-4f7d-438e-a5bc-192c25676007",
        "_execution_state": "idle",
        "collapsed": false,
        "_uuid": "4b8d5e212a684cce197bf430bcc21f45e7ba8a6a",
        "trusted": false
      },
      "source": ""
    },
    {
      "cell_type": "code",
      "outputs": [],
      "execution_count": null,
      "metadata": {
        "_cell_guid": "f092fed8-9ca9-4bfa-b8aa-197e77643514",
        "_execution_state": "idle",
        "collapsed": false,
        "_uuid": "9ecdbb3862a68d903629c6fbfa3ac52d02c3f0cd",
        "trusted": false
      },
      "source": ""
    },
    {
      "cell_type": "code",
      "outputs": [],
      "execution_count": null,
      "metadata": {
        "_cell_guid": "75f07551-a5ad-4e9d-b9c7-049f5d0f946d",
        "_execution_state": "idle",
        "collapsed": false,
        "_uuid": "e8843b847b376bc92ddfd0c29f0cfafc942fb1fb",
        "trusted": false
      },
      "source": ""
    }
  ],
  "metadata": {
    "kernelspec": {
      "display_name": "Python 3",
      "language": "python",
      "name": "python3"
    },
    "language_info": {
      "name": "python",
      "version": "3.6.1",
      "mimetype": "text/x-python",
      "codemirror_mode": {
        "name": "ipython",
        "version": 3
      },
      "pygments_lexer": "ipython3",
      "nbconvert_exporter": "python",
      "file_extension": ".py"
    }
  },
  "nbformat": 4
}